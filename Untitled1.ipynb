{
  "nbformat": 4,
  "nbformat_minor": 0,
  "metadata": {
    "colab": {
      "name": "Untitled1.ipynb",
      "provenance": [],
      "collapsed_sections": [],
      "toc_visible": true,
      "authorship_tag": "ABX9TyMjjxWxvbB1WTM7VFxGAIxK",
      "include_colab_link": true
    },
    "kernelspec": {
      "name": "python3",
      "display_name": "Python 3"
    }
  },
  "cells": [
    {
      "cell_type": "markdown",
      "metadata": {
        "id": "view-in-github",
        "colab_type": "text"
      },
      "source": [
        "<a href=\"https://colab.research.google.com/github/huhushushu/-/blob/master/Untitled1.ipynb\" target=\"_parent\"><img src=\"https://colab.research.google.com/assets/colab-badge.svg\" alt=\"Open In Colab\"/></a>"
      ]
    },
    {
      "cell_type": "code",
      "metadata": {
        "id": "z-_CF6027VmL",
        "colab_type": "code",
        "colab": {}
      },
      "source": [
        "#网络爬取"
      ],
      "execution_count": 0,
      "outputs": []
    },
    {
      "cell_type": "code",
      "metadata": {
        "id": "ODjRsSPy7biW",
        "colab_type": "code",
        "colab": {
          "base_uri": "https://localhost:8080/",
          "height": 35
        },
        "outputId": "94e0f1b1-f330-4c89-b95e-6f043f249779"
      },
      "source": [
        "from urllib.request import urlopen\n",
        "html=urlopen(\"http://www.sinodreamaccessaries.com/\")\n",
        "print(html.read)   \n",
        "#urllib.request.urlopen返回http.client.HTTPResponse对象（http.client模块下的）\n",
        "#respons对象包含header，status code，body"
      ],
      "execution_count": 1,
      "outputs": [
        {
          "output_type": "stream",
          "text": [
            "<bound method HTTPResponse.read of <http.client.HTTPResponse object at 0x7f7e6bfc8e10>>\n"
          ],
          "name": "stdout"
        }
      ]
    },
    {
      "cell_type": "code",
      "metadata": {
        "colab_type": "code",
        "id": "i7iw9w8WIQj7",
        "colab": {}
      },
      "source": [
        "from bs4 import BeautifulSoup as BS\n",
        "from urllib.request import urlopen\n",
        "html=urlopen(\"http://www.pythonscraping.com/pages/page1.html\")\n",
        "bsobj=BS(html.read())\n",
        "print(bsobj) \n",
        "print(bsobj.h1)\n",
        "www.sinodreamaccessaries.com\n",
        "#获取华梦网站，比较上段和本段 html.read获取了内容，BeautifulSoup 转换解读了html的内容\n",
        "from bs4 import BeautifulSoup as BS\n",
        "from urllib.request import urlopen\n",
        "html=urlopen(\"http://www.sinodreamaccessaries.com\")\n",
        "bsobj=BS(html.read())\n",
        "print(bsobj) \n",
        "\n",
        "\n"
      ],
      "execution_count": 0,
      "outputs": []
    },
    {
      "cell_type": "markdown",
      "metadata": {
        "id": "XURZ5vluRavH",
        "colab_type": "text"
      },
      "source": [
        "#执行代码，如果没有异常发生，忽略 except 子句，try 子句执行后结束\n",
        "#发生异常时执行的代码   如果一个异常没有与任何的 excep 匹配，那么这个异常将会传递给上层的 try 中\n"
      ]
    },
    {
      "cell_type": "code",
      "metadata": {
        "id": "jFiyo3YvPfbZ",
        "colab_type": "code",
        "colab": {}
      },
      "source": [
        "#针对异常\n",
        "from urllib.request import urlopen\n",
        "from bs4 import BeautifulSoup as BS\n",
        "from urllib.error import HTTPError\n",
        "def getTitle(url):\n",
        "    try :                      \n",
        "        html=urlopen(url)\n",
        "    except HTTPError as e:            \n",
        "        return None               #个 try 语句可能包含多个except子句，分别来处理不同的特定的异常。最多只有一个分支会被执行\n",
        "    try : \n",
        "        bsobj=BS(html.read())\n",
        "        title=bsobj.body.h1\n",
        "    except AttributeError as e:           \n",
        "        return None             \n",
        "    return title\n",
        "title=getTitle(\"http://www.pythonscraping.com/pages/page1.html\")\n",
        "if title==None:\n",
        "    print(\"title could not found\")\n",
        "else:\n",
        "    print(title)"
      ],
      "execution_count": 0,
      "outputs": []
    },
    {
      "cell_type": "code",
      "metadata": {
        "colab_type": "code",
        "id": "DLubJNhpdRlB",
        "colab": {}
      },
      "source": [
        "from bs4 import BeautifulSoup as BS\n",
        "from urllib.request import urlopen\n",
        "html=urlopen(\"http://www.pythonscraping.com/pages/warandpeace.html\")\n",
        "bsobj=BS(html.read())\n",
        "#通过 BeautifulSoup 对象，我们可以用 findAll 函数抽取只包含在 \n",
        "#<spanclass=\"green\"></span> 标签里的文字，这样就会得到一个人物名称的 Python列表\n",
        "namelist=bsobj.findAll(\"span\",{\"class\":\"green\"})#findAll返回一个列表\n",
        "for name in namelist:\n",
        "    print(name.get_text())\n",
        "\"\"\"get_text() 会把你正在处理的 HTML 文档中所有的标签都清除，然后返回\n",
        "一个只包含文字的字符串。 假如你正在处理一个包含许多超链接、 段落和标签\n",
        "的大段源代码，那么 .get_text() 会把这些超链接、 段落和标签都清除掉，\n",
        "只剩下一串不带标签的文字\"\"\"\n"
      ],
      "execution_count": 0,
      "outputs": []
    },
    {
      "cell_type": "code",
      "metadata": {
        "id": "_vE7VERMZACz",
        "colab_type": "code",
        "colab": {}
      },
      "source": [
        "from urllib.request import urlopen\n",
        "from bs4 import BeautifulSoup as BS\n",
        "html=urlopen(\"http://www.pythonscraping.com/pages/page3.html\")\n",
        "bsobj=BS(html)\n",
        "for child in bsobj.find(\"table\",{\"id\":\"giftList\"}).children:#注意单词拼写，第一次giftList，L没大写导致错误\n",
        "    print(child)\n"
      ],
      "execution_count": 0,
      "outputs": []
    },
    {
      "cell_type": "code",
      "metadata": {
        "id": "3MLyotCcdeXK",
        "colab_type": "code",
        "colab": {}
      },
      "source": [
        "#正则表达式\n",
        "#例子\n",
        "aa*bbbbb(cc)*(d | )\n",
        "a后面跟着的a* 重复任意次a包括0次，这样保证a至少出现一次\n",
        "bbbbb 出现5次b\n",
        "(cc)* 出现任意次两个c 包括0次\n",
        "最后一位是d或者啥也没有"
      ],
      "execution_count": 0,
      "outputs": []
    },
    {
      "cell_type": "code",
      "metadata": {
        "id": "4SmrPkiMesia",
        "colab_type": "code",
        "colab": {}
      },
      "source": [
        "RegexPal（http://regexpal.com/\n",
        "#邮箱\n",
        "[A-Za-z0-9\\._+]+@[A-Za-z]+\\.(com|org|edu|net)"
      ],
      "execution_count": 0,
      "outputs": []
    }
  ]
}